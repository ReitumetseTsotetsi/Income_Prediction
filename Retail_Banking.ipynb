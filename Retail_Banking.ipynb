{
 "cells": [
  {
   "attachments": {},
   "cell_type": "markdown",
   "metadata": {},
   "source": [
    "# Import Libraries"
   ]
  },
  {
   "cell_type": "code",
   "execution_count": 2,
   "metadata": {},
   "outputs": [],
   "source": [
    "import pandas as pd\n",
    "import matplotlib.pyplot as plt\n",
    "import numpy as np\n"
   ]
  },
  {
   "attachments": {},
   "cell_type": "markdown",
   "metadata": {},
   "source": [
    "# Load or Read-in the datasets"
   ]
  },
  {
   "cell_type": "code",
   "execution_count": 3,
   "metadata": {},
   "outputs": [],
   "source": [
    "customer_data = pd.read_csv('Customer.csv')\n",
    "employment_data = pd.read_csv('employment_status.csv')\n",
    "income_data = pd.read_csv('Income_group.csv')\n",
    "transactions_data = pd.read_csv('transactions.csv')"
   ]
  },
  {
   "attachments": {},
   "cell_type": "markdown",
   "metadata": {},
   "source": [
    "# Data preprocessing"
   ]
  },
  {
   "cell_type": "code",
   "execution_count": 4,
   "metadata": {},
   "outputs": [
    {
     "name": "stdout",
     "output_type": "stream",
     "text": [
      "   INCOME_GROUP_CODE INCOME_GROUP_DESC\n",
      "0                  0      NOT SUPPLIED\n",
      "1                  1         R 0 - 499\n",
      "2                  2        R500 - 999\n",
      "3                  3    R1,000 - 1,999\n",
      "4                  4    R2,000 - 2,999\n"
     ]
    }
   ],
   "source": [
    "# Changes column headers to upper_case\n",
    "income_data.columns = income_data.columns.str.upper()\n",
    "print(income_data.head())"
   ]
  },
  {
   "attachments": {},
   "cell_type": "markdown",
   "metadata": {},
   "source": [
    "# Merge Tables"
   ]
  },
  {
   "cell_type": "code",
   "execution_count": null,
   "metadata": {},
   "outputs": [],
   "source": [
    "merged_data = customer_data.merge(transactions_data, on='CUSTOMER_IDENTIFIER', how='left')\n",
    "\n",
    "print(merged_data.head(5))"
   ]
  },
  {
   "cell_type": "code",
   "execution_count": 9,
   "metadata": {},
   "outputs": [
    {
     "name": "stdout",
     "output_type": "stream",
     "text": [
      "                                 CUSTOMER_IDENTIFIER DATE_LAST_UPDATED  \\\n",
      "0  ID_00a7d65f82a6819e79c29a84e805777f0265308b655...           2022-09   \n",
      "1  ID_00a7d65f82a6819e79c29a84e805777f0265308b655...           2022-09   \n",
      "2  ID_09651edcac6c55a5e401062b0c0ef7bbba3f3e49538...           2022-09   \n",
      "3  ID_09651edcac6c55a5e401062b0c0ef7bbba3f3e49538...           2022-09   \n",
      "4  ID_09651edcac6c55a5e401062b0c0ef7bbba3f3e49538...           2022-09   \n",
      "\n",
      "   SEX_CODE  INCOME_GROUP_CODE  NUMBER_OF_ACCOUNTS  OCCUPATIONAL_STATUS_CODE  \\\n",
      "0         1                  6                   4                         7   \n",
      "1         1                  6                   4                         7   \n",
      "2         0                  7                  10                         3   \n",
      "3         0                  7                  10                         3   \n",
      "4         0                  7                  10                         3   \n",
      "\n",
      "   AGE TRANSACTION_DESCRIPTION                RECORD_DATE  \\\n",
      "0   51       CASH ACCEPTOR DEP  2022-08-31 00:00:00+02:00   \n",
      "1   51          ATM WITHDRAWAL  2022-08-31 00:00:00+02:00   \n",
      "2   32                     NaN  2022-04-29 00:00:00+02:00   \n",
      "3   32                     NaN  2022-05-05 00:00:00+02:00   \n",
      "4   32          ATM WITHDRAWAL  2022-08-30 00:00:00+02:00   \n",
      "\n",
      "                                   ACCOUNT_TYPE_CODE  ACCOUNT_BALANCE  \\\n",
      "0  e92177da406abc0e0a5bce83e853dbdb4e792af521a0ae...           100.00   \n",
      "1  e92177da406abc0e0a5bce83e853dbdb4e792af521a0ae...            50.00   \n",
      "2  e17913461e7c03cd0f2c1ac41584dcd801cb32e7f86ad9...          5511.00   \n",
      "3  e17913461e7c03cd0f2c1ac41584dcd801cb32e7f86ad9...           903.17   \n",
      "4  e92177da406abc0e0a5bce83e853dbdb4e792af521a0ae...          6655.01   \n",
      "\n",
      "       AMT  EVENT_NUMBER PRODUCT_CODE CHANNEL  \\\n",
      "0   100.00            24         CHEQ     atm   \n",
      "1   -50.00            25         CHEQ     atm   \n",
      "2  5503.62          1020         SAVE  teller   \n",
      "3  -540.00          1059         SAVE  system   \n",
      "4  -500.00           125         CHEQ     atm   \n",
      "\n",
      "                                      ACCOUNT_NUMBER  \\\n",
      "0  678bf23c221a8e747af3a6003c80d496649c5cdc1e1fc0...   \n",
      "1  678bf23c221a8e747af3a6003c80d496649c5cdc1e1fc0...   \n",
      "2  00c6c13e3a65de8a170c6d8a16412e6f6bd6be5d708251...   \n",
      "3  00c6c13e3a65de8a170c6d8a16412e6f6bd6be5d708251...   \n",
      "4  00c6c13e3a65de8a170c6d8a16412e6f6bd6be5d708251...   \n",
      "\n",
      "                               TRANSACTION_REFERENCE INCOME_GROUP_DESC  \n",
      "0  f90ddd77e400dfe6a3fcf479b00b1ee29e7015c5bb8cd7...    R4,000 - 4,999  \n",
      "1  f90ddd77e400dfe6a3fcf479b00b1ee29e7015c5bb8cd7...    R4,000 - 4,999  \n",
      "2                                                NaN    R5,000 - 5,999  \n",
      "3                                                NaN    R5,000 - 5,999  \n",
      "4  f90ddd77e400dfe6a3fcf479b00b1ee29e7015c5bb8cd7...    R5,000 - 5,999  \n"
     ]
    }
   ],
   "source": [
    "final_merged_data=merged_data.merge(income_data,on='INCOME_GROUP_CODE',how='left')\n",
    "print(final_merged_data.head(5))"
   ]
  },
  {
   "cell_type": "code",
   "execution_count": null,
   "metadata": {},
   "outputs": [],
   "source": [
    "final_merged_data.info()"
   ]
  },
  {
   "cell_type": "code",
   "execution_count": 44,
   "metadata": {},
   "outputs": [],
   "source": [
    "transactions_data['RECORD_DATE'] = pd.to_datetime(transactions_data['RECORD_DATE'])\n",
    "transactions_data['month'] = transactions_data['RECORD_DATE'].dt.month\n",
    "transactions_data['day_of_week'] = transactions_data['RECORD_DATE'].dt.dayofweek\n"
   ]
  },
  {
   "cell_type": "code",
   "execution_count": null,
   "metadata": {},
   "outputs": [],
   "source": [
    "transactions_data.info()"
   ]
  },
  {
   "attachments": {},
   "cell_type": "markdown",
   "metadata": {},
   "source": [
    "# Check for null values on final_merged_data "
   ]
  },
  {
   "cell_type": "code",
   "execution_count": 79,
   "metadata": {},
   "outputs": [
    {
     "name": "stdout",
     "output_type": "stream",
     "text": [
      "CUSTOMER_IDENTIFIER         0\n",
      "DATE_LAST_UPDATED           0\n",
      "SEX_CODE                    0\n",
      "INCOME_GROUP_CODE           0\n",
      "NUMBER_OF_ACCOUNTS          0\n",
      "OCCUPATIONAL_STATUS_CODE    0\n",
      "AGE                         0\n",
      "TRANSACTION_DESCRIPTION     0\n",
      "RECORD_DATE                 0\n",
      "ACCOUNT_TYPE_CODE           0\n",
      "ACCOUNT_BALANCE             0\n",
      "AMT                         0\n",
      "EVENT_NUMBER                0\n",
      "PRODUCT_CODE                0\n",
      "CHANNEL                     0\n",
      "ACCOUNT_NUMBER              0\n",
      "INCOME_GROUP_DESC           0\n",
      "dtype: int64\n"
     ]
    }
   ],
   "source": [
    "null_counts = final_merged_data.isnull().sum()\n",
    "\n",
    "# Display the columns with null values and their corresponding counts\n",
    "print(null_counts)"
   ]
  },
  {
   "cell_type": "code",
   "execution_count": 78,
   "metadata": {},
   "outputs": [
    {
     "name": "stdout",
     "output_type": "stream",
     "text": [
      "Empty DataFrame\n",
      "Columns: [CUSTOMER_IDENTIFIER, DATE_LAST_UPDATED, SEX_CODE, INCOME_GROUP_CODE, NUMBER_OF_ACCOUNTS, OCCUPATIONAL_STATUS_CODE, AGE, TRANSACTION_DESCRIPTION, RECORD_DATE, ACCOUNT_TYPE_CODE, ACCOUNT_BALANCE, AMT, EVENT_NUMBER, PRODUCT_CODE, CHANNEL, ACCOUNT_NUMBER, INCOME_GROUP_DESC]\n",
      "Index: []\n"
     ]
    }
   ],
   "source": [
    "# Checking for duplicate rows in the 'final_merged_data' DataFrame\n",
    "duplicate_rows = final_merged_data.duplicated()\n",
    "\n",
    "# Counting the number of duplicate rows\n",
    "num_duplicates = duplicate_rows.sum()\n",
    "\n",
    "# Displaying the duplicate rows\n",
    "duplicate_data = final_merged_data[duplicate_rows]\n",
    "print(duplicate_data)\n"
   ]
  },
  {
   "attachments": {},
   "cell_type": "markdown",
   "metadata": {},
   "source": [
    "# Drop Transaction Reference column"
   ]
  },
  {
   "cell_type": "code",
   "execution_count": 10,
   "metadata": {},
   "outputs": [],
   "source": [
    "final_merged_data.drop('TRANSACTION_REFERENCE', axis=1, inplace=True)"
   ]
  },
  {
   "attachments": {},
   "cell_type": "markdown",
   "metadata": {},
   "source": [
    "# Fill in null values in transaction description"
   ]
  },
  {
   "cell_type": "code",
   "execution_count": 11,
   "metadata": {},
   "outputs": [],
   "source": [
    "final_merged_data['TRANSACTION_DESCRIPTION'].fillna('NO DESCRIPTION', inplace=True)\n"
   ]
  },
  {
   "cell_type": "code",
   "execution_count": 12,
   "metadata": {},
   "outputs": [],
   "source": [
    "final_merged_data.to_csv('absa_df.csv', index=False)\n"
   ]
  }
 ],
 "metadata": {
  "kernelspec": {
   "display_name": "base",
   "language": "python",
   "name": "python3"
  },
  "language_info": {
   "codemirror_mode": {
    "name": "ipython",
    "version": 3
   },
   "file_extension": ".py",
   "mimetype": "text/x-python",
   "name": "python",
   "nbconvert_exporter": "python",
   "pygments_lexer": "ipython3",
   "version": "3.10.9"
  },
  "orig_nbformat": 4
 },
 "nbformat": 4,
 "nbformat_minor": 2
}
